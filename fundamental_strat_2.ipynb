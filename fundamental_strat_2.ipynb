{
 "cells": [
  {
   "cell_type": "code",
   "execution_count": 8,
   "metadata": {},
   "outputs": [],
   "source": [
    "import quandl\n",
    "import yfinance as yf\n",
    "import pandas as pd\n",
    "import numpy as np\n",
    "import matplotlib.pyplot as plt"
   ]
  },
  {
   "cell_type": "code",
   "execution_count": 9,
   "metadata": {},
   "outputs": [],
   "source": [
    "# Define the stock ticker symbols and date range\n",
    "start_date = \"2015-01-01\"\n",
    "end_date = \"2019-12-31\"\n",
    "\n",
    "tickers = ['META', 'AAPL', 'AMZN', 'NFLX', 'GOOGL']\n",
    "\n",
    "# Define thresholds for signal generation\n",
    "PE_BUY_THRESHOLD = 30\n",
    "PE_SELL_THRESHOLD = 40\n",
    "REVENUE_GROWTH_BUY_THRESHOLD = 0.1  # 10% growth\n",
    "REVENUE_GROWTH_SELL_THRESHOLD = 0.05  # 5% growth"
   ]
  },
  {
   "cell_type": "code",
   "execution_count": 15,
   "metadata": {},
   "outputs": [],
   "source": [
    "# Generate buy and sell signals\n",
    "def generate_signals(financial_data):\n",
    "    \"\"\"\n",
    "    Generate buy and sell signals based on TTM PE ratio and Revenue Growth.\n",
    "    \"\"\"\n",
    "    signals = pd.DataFrame(index=financial_data.index)\n",
    "    signals['Signal'] = 0  # Default to no signal\n",
    "    \n",
    "    # Buy signal: TTM PE < PE_BUY_THRESHOLD and Revenue Growth > REVENUE_GROWTH_BUY_THRESHOLD\n",
    "    buy_condition = (financial_data['TTM PE'] < PE_BUY_THRESHOLD) & (financial_data['Revenue Growth'] > REVENUE_GROWTH_BUY_THRESHOLD)\n",
    "    \n",
    "    # Sell signal: TTM PE > PE_SELL_THRESHOLD and Revenue Growth < REVENUE_GROWTH_SELL_THRESHOLD\n",
    "    sell_condition = (financial_data['TTM PE'] > PE_SELL_THRESHOLD) & (financial_data['Revenue Growth'] < REVENUE_GROWTH_SELL_THRESHOLD)\n",
    "    \n",
    "    signals.loc[buy_condition, 'Signal'] = 1  # Buy signal\n",
    "    signals.loc[sell_condition, 'Signal'] = -1  # Sell signal\n",
    "    \n",
    "    return signals"
   ]
  },
  {
   "cell_type": "code",
   "execution_count": 11,
   "metadata": {},
   "outputs": [],
   "source": [
    "# Backtest the strategy using historical prices\n",
    "def backtest_strategy(ticker, signals, start_date=\"2015-01-01\", end_date=\"2019-12-31\"):\n",
    "    \"\"\"\n",
    "    Backtest the strategy by retrieving prices and applying buy/sell signals.\n",
    "    \"\"\"\n",
    "    # Download price data from Yahoo Finance\n",
    "    price_data = yf.download(ticker, start=start_date, end=end_date)['Adj Close']\n",
    "    \n",
    "    # Create a DataFrame to store positions and returns\n",
    "    strategy_data = pd.DataFrame(index=signals.index)\n",
    "    strategy_data['Price'] = price_data.reindex(signals.index).fillna(method='ffill')\n",
    "    strategy_data['Signal'] = signals['Signal']\n",
    "    \n",
    "    # Track positions\n",
    "    strategy_data['Position'] = strategy_data['Signal'].shift().fillna(0)\n",
    "    \n",
    "    # Calculate returns\n",
    "    strategy_data['Daily Return'] = strategy_data['Price'].pct_change()\n",
    "    strategy_data['Strategy Return'] = strategy_data['Daily Return'] * strategy_data['Position']\n",
    "    strategy_data['Cumulative Return'] = (1 + strategy_data['Strategy Return']).cumprod()\n",
    "    \n",
    "    return strategy_data\n"
   ]
  },
  {
   "cell_type": "code",
   "execution_count": 12,
   "metadata": {},
   "outputs": [],
   "source": [
    "# Plot the cumulative return of the strategy\n",
    "def plot_strategy(ticker, strategy_data):\n",
    "    \"\"\"\n",
    "    Plot the cumulative return of the strategy.\n",
    "    \"\"\"\n",
    "    plt.figure(figsize=(10, 6))\n",
    "    plt.plot(strategy_data['Cumulative Return'], label=f'{ticker} Strategy Return')\n",
    "    plt.title(f'{ticker} Strategy Cumulative Return')\n",
    "    plt.xlabel('Date')\n",
    "    plt.ylabel('Cumulative Return')\n",
    "    plt.legend()\n",
    "    plt.grid(True)\n",
    "    plt.show()"
   ]
  },
  {
   "cell_type": "code",
   "execution_count": 13,
   "metadata": {},
   "outputs": [],
   "source": [
    "# Main function to run the strategy for all MAANG stocks\n",
    "def run_maang_strategy(tickers):\n",
    "    for ticker in tickers:\n",
    "        print(f'Running strategy for {ticker}')\n",
    "        \n",
    "        # Step 1: Retrieve financial data from Quandl\n",
    "        financial_data = retrieve_financial_data(ticker)\n",
    "        \n",
    "        # Step 2: Generate buy/sell signals\n",
    "        signals = generate_signals(financial_data)\n",
    "        \n",
    "        # Step 3: Backtest the strategy using historical prices\n",
    "        strategy_data = backtest_strategy(ticker, signals)\n",
    "        \n",
    "        # Step 4: Plot the results\n",
    "        plot_strategy(ticker, strategy_data)"
   ]
  },
  {
   "cell_type": "code",
   "execution_count": 14,
   "metadata": {},
   "outputs": [
    {
     "name": "stdout",
     "output_type": "stream",
     "text": [
      "Running strategy for META\n"
     ]
    },
    {
     "ename": "InvalidRequestError",
     "evalue": "(Status 422) (Quandl Error QESx08) You cannot use date column as a filter.",
     "output_type": "error",
     "traceback": [
      "\u001b[0;31m---------------------------------------------------------------------------\u001b[0m",
      "\u001b[0;31mInvalidRequestError\u001b[0m                       Traceback (most recent call last)",
      "Cell \u001b[0;32mIn[14], line 2\u001b[0m\n\u001b[1;32m      1\u001b[0m \u001b[38;5;66;03m# Run the strategy for all MAANG stocks\u001b[39;00m\n\u001b[0;32m----> 2\u001b[0m run_maang_strategy(tickers)\n",
      "Cell \u001b[0;32mIn[13], line 7\u001b[0m, in \u001b[0;36mrun_maang_strategy\u001b[0;34m(tickers)\u001b[0m\n\u001b[1;32m      4\u001b[0m \u001b[38;5;28mprint\u001b[39m(\u001b[38;5;124mf\u001b[39m\u001b[38;5;124m'\u001b[39m\u001b[38;5;124mRunning strategy for \u001b[39m\u001b[38;5;132;01m{\u001b[39;00mticker\u001b[38;5;132;01m}\u001b[39;00m\u001b[38;5;124m'\u001b[39m)\n\u001b[1;32m      6\u001b[0m \u001b[38;5;66;03m# Step 1: Retrieve financial data from Quandl\u001b[39;00m\n\u001b[0;32m----> 7\u001b[0m financial_data \u001b[38;5;241m=\u001b[39m retrieve_financial_data(ticker)\n\u001b[1;32m      9\u001b[0m \u001b[38;5;66;03m# Step 2: Generate buy/sell signals\u001b[39;00m\n\u001b[1;32m     10\u001b[0m signals \u001b[38;5;241m=\u001b[39m generate_signals(financial_data)\n",
      "Cell \u001b[0;32mIn[10], line 6\u001b[0m, in \u001b[0;36mretrieve_financial_data\u001b[0;34m(ticker, start_date, end_date)\u001b[0m\n\u001b[1;32m      2\u001b[0m \u001b[38;5;28;01mdef\u001b[39;00m \u001b[38;5;21mretrieve_financial_data\u001b[39m(ticker, start_date\u001b[38;5;241m=\u001b[39m\u001b[38;5;124m\"\u001b[39m\u001b[38;5;124m2015-01-01\u001b[39m\u001b[38;5;124m\"\u001b[39m, end_date\u001b[38;5;241m=\u001b[39m\u001b[38;5;124m\"\u001b[39m\u001b[38;5;124m2019-12-31\u001b[39m\u001b[38;5;124m\"\u001b[39m):\n\u001b[1;32m      3\u001b[0m \u001b[38;5;250m    \u001b[39m\u001b[38;5;124;03m\"\"\"\u001b[39;00m\n\u001b[1;32m      4\u001b[0m \u001b[38;5;124;03m    Retrieve the quarterly TTM PE ratio and revenue growth for a given stock ticker from Quandl.\u001b[39;00m\n\u001b[1;32m      5\u001b[0m \u001b[38;5;124;03m    \"\"\"\u001b[39;00m\n\u001b[0;32m----> 6\u001b[0m     data \u001b[38;5;241m=\u001b[39m quandl\u001b[38;5;241m.\u001b[39mget_table(\n\u001b[1;32m      7\u001b[0m         \u001b[38;5;124m'\u001b[39m\u001b[38;5;124mSHARADAR/SF1\u001b[39m\u001b[38;5;124m'\u001b[39m, \n\u001b[1;32m      8\u001b[0m         ticker\u001b[38;5;241m=\u001b[39mticker, \n\u001b[1;32m      9\u001b[0m         qopts\u001b[38;5;241m=\u001b[39m{\u001b[38;5;124m'\u001b[39m\u001b[38;5;124mcolumns\u001b[39m\u001b[38;5;124m'\u001b[39m: [\u001b[38;5;124m'\u001b[39m\u001b[38;5;124mticker\u001b[39m\u001b[38;5;124m'\u001b[39m, \u001b[38;5;124m'\u001b[39m\u001b[38;5;124mdatekey\u001b[39m\u001b[38;5;124m'\u001b[39m, \u001b[38;5;124m'\u001b[39m\u001b[38;5;124mrevenue\u001b[39m\u001b[38;5;124m'\u001b[39m, \u001b[38;5;124m'\u001b[39m\u001b[38;5;124meps\u001b[39m\u001b[38;5;124m'\u001b[39m, \u001b[38;5;124m'\u001b[39m\u001b[38;5;124mpe\u001b[39m\u001b[38;5;124m'\u001b[39m]}, \n\u001b[1;32m     10\u001b[0m         dimension\u001b[38;5;241m=\u001b[39m\u001b[38;5;124m'\u001b[39m\u001b[38;5;124mARQ\u001b[39m\u001b[38;5;124m'\u001b[39m,  \u001b[38;5;66;03m# As Reported Quarterly data\u001b[39;00m\n\u001b[1;32m     11\u001b[0m         date\u001b[38;5;241m=\u001b[39m{\u001b[38;5;124m'\u001b[39m\u001b[38;5;124mgte\u001b[39m\u001b[38;5;124m'\u001b[39m: start_date, \u001b[38;5;124m'\u001b[39m\u001b[38;5;124mlte\u001b[39m\u001b[38;5;124m'\u001b[39m: end_date},\n\u001b[1;32m     12\u001b[0m         paginate\u001b[38;5;241m=\u001b[39m\u001b[38;5;28;01mTrue\u001b[39;00m\n\u001b[1;32m     13\u001b[0m     )\n\u001b[1;32m     14\u001b[0m     df \u001b[38;5;241m=\u001b[39m pd\u001b[38;5;241m.\u001b[39mDataFrame(data)\n\u001b[1;32m     15\u001b[0m     df[\u001b[38;5;124m'\u001b[39m\u001b[38;5;124mdatekey\u001b[39m\u001b[38;5;124m'\u001b[39m] \u001b[38;5;241m=\u001b[39m pd\u001b[38;5;241m.\u001b[39mto_datetime(df[\u001b[38;5;124m'\u001b[39m\u001b[38;5;124mdatekey\u001b[39m\u001b[38;5;124m'\u001b[39m])\n",
      "File \u001b[0;32m~/anaconda3/lib/python3.11/site-packages/quandl/get_table.py:19\u001b[0m, in \u001b[0;36mget_table\u001b[0;34m(datatable_code, **options)\u001b[0m\n\u001b[1;32m     17\u001b[0m \u001b[38;5;28;01mwhile\u001b[39;00m \u001b[38;5;28;01mTrue\u001b[39;00m:\n\u001b[1;32m     18\u001b[0m     next_options \u001b[38;5;241m=\u001b[39m copy\u001b[38;5;241m.\u001b[39mdeepcopy(options)\n\u001b[0;32m---> 19\u001b[0m     next_data \u001b[38;5;241m=\u001b[39m Datatable(datatable_code)\u001b[38;5;241m.\u001b[39mdata(params\u001b[38;5;241m=\u001b[39mnext_options)\n\u001b[1;32m     21\u001b[0m     \u001b[38;5;28;01mif\u001b[39;00m data \u001b[38;5;129;01mis\u001b[39;00m \u001b[38;5;28;01mNone\u001b[39;00m:\n\u001b[1;32m     22\u001b[0m         data \u001b[38;5;241m=\u001b[39m next_data\n",
      "File \u001b[0;32m~/anaconda3/lib/python3.11/site-packages/quandl/model/datatable.py:31\u001b[0m, in \u001b[0;36mDatatable.data\u001b[0;34m(self, **options)\u001b[0m\n\u001b[1;32m     29\u001b[0m \u001b[38;5;28;01mif\u001b[39;00m \u001b[38;5;129;01mnot\u001b[39;00m options:\n\u001b[1;32m     30\u001b[0m     options \u001b[38;5;241m=\u001b[39m {\u001b[38;5;124m'\u001b[39m\u001b[38;5;124mparams\u001b[39m\u001b[38;5;124m'\u001b[39m: {}}\n\u001b[0;32m---> 31\u001b[0m \u001b[38;5;28;01mreturn\u001b[39;00m Data\u001b[38;5;241m.\u001b[39mpage(\u001b[38;5;28mself\u001b[39m, \u001b[38;5;241m*\u001b[39m\u001b[38;5;241m*\u001b[39moptions)\n",
      "File \u001b[0;32m~/anaconda3/lib/python3.11/site-packages/quandl/operations/list.py:30\u001b[0m, in \u001b[0;36mListOperation.page\u001b[0;34m(cls, datatable, **options)\u001b[0m\n\u001b[1;32m     26\u001b[0m request_type \u001b[38;5;241m=\u001b[39m RequestType\u001b[38;5;241m.\u001b[39mget_request_type(path, \u001b[38;5;241m*\u001b[39m\u001b[38;5;241m*\u001b[39moptions)\n\u001b[1;32m     28\u001b[0m updated_options \u001b[38;5;241m=\u001b[39m Util\u001b[38;5;241m.\u001b[39mconvert_options(request_type\u001b[38;5;241m=\u001b[39mrequest_type, \u001b[38;5;241m*\u001b[39m\u001b[38;5;241m*\u001b[39moptions)\n\u001b[0;32m---> 30\u001b[0m r \u001b[38;5;241m=\u001b[39m Connection\u001b[38;5;241m.\u001b[39mrequest(request_type, path, \u001b[38;5;241m*\u001b[39m\u001b[38;5;241m*\u001b[39mupdated_options)\n\u001b[1;32m     32\u001b[0m response_data \u001b[38;5;241m=\u001b[39m r\u001b[38;5;241m.\u001b[39mjson()\n\u001b[1;32m     33\u001b[0m Util\u001b[38;5;241m.\u001b[39mconvert_to_dates(response_data)\n",
      "File \u001b[0;32m~/anaconda3/lib/python3.11/site-packages/quandl/connection.py:38\u001b[0m, in \u001b[0;36mConnection.request\u001b[0;34m(cls, http_verb, url, **options)\u001b[0m\n\u001b[1;32m     34\u001b[0m options[\u001b[38;5;124m'\u001b[39m\u001b[38;5;124mheaders\u001b[39m\u001b[38;5;124m'\u001b[39m] \u001b[38;5;241m=\u001b[39m headers\n\u001b[1;32m     36\u001b[0m abs_url \u001b[38;5;241m=\u001b[39m \u001b[38;5;124m'\u001b[39m\u001b[38;5;132;01m%s\u001b[39;00m\u001b[38;5;124m/\u001b[39m\u001b[38;5;132;01m%s\u001b[39;00m\u001b[38;5;124m'\u001b[39m \u001b[38;5;241m%\u001b[39m (ApiConfig\u001b[38;5;241m.\u001b[39mapi_base, url)\n\u001b[0;32m---> 38\u001b[0m \u001b[38;5;28;01mreturn\u001b[39;00m \u001b[38;5;28mcls\u001b[39m\u001b[38;5;241m.\u001b[39mexecute_request(http_verb, abs_url, \u001b[38;5;241m*\u001b[39m\u001b[38;5;241m*\u001b[39moptions)\n",
      "File \u001b[0;32m~/anaconda3/lib/python3.11/site-packages/quandl/connection.py:50\u001b[0m, in \u001b[0;36mConnection.execute_request\u001b[0;34m(cls, http_verb, url, **options)\u001b[0m\n\u001b[1;32m     45\u001b[0m response \u001b[38;5;241m=\u001b[39m session\u001b[38;5;241m.\u001b[39mrequest(method\u001b[38;5;241m=\u001b[39mhttp_verb,\n\u001b[1;32m     46\u001b[0m                            url\u001b[38;5;241m=\u001b[39murl,\n\u001b[1;32m     47\u001b[0m                            verify\u001b[38;5;241m=\u001b[39mApiConfig\u001b[38;5;241m.\u001b[39mverify_ssl,\n\u001b[1;32m     48\u001b[0m                            \u001b[38;5;241m*\u001b[39m\u001b[38;5;241m*\u001b[39moptions)\n\u001b[1;32m     49\u001b[0m \u001b[38;5;28;01mif\u001b[39;00m response\u001b[38;5;241m.\u001b[39mstatus_code \u001b[38;5;241m<\u001b[39m \u001b[38;5;241m200\u001b[39m \u001b[38;5;129;01mor\u001b[39;00m response\u001b[38;5;241m.\u001b[39mstatus_code \u001b[38;5;241m>\u001b[39m\u001b[38;5;241m=\u001b[39m \u001b[38;5;241m300\u001b[39m:\n\u001b[0;32m---> 50\u001b[0m     \u001b[38;5;28mcls\u001b[39m\u001b[38;5;241m.\u001b[39mhandle_api_error(response)\n\u001b[1;32m     51\u001b[0m \u001b[38;5;28;01melse\u001b[39;00m:\n\u001b[1;32m     52\u001b[0m     \u001b[38;5;28;01mreturn\u001b[39;00m response\n",
      "File \u001b[0;32m~/anaconda3/lib/python3.11/site-packages/quandl/connection.py:114\u001b[0m, in \u001b[0;36mConnection.handle_api_error\u001b[0;34m(cls, resp)\u001b[0m\n\u001b[1;32m    103\u001b[0m d_klass \u001b[38;5;241m=\u001b[39m {\n\u001b[1;32m    104\u001b[0m     \u001b[38;5;124m'\u001b[39m\u001b[38;5;124mL\u001b[39m\u001b[38;5;124m'\u001b[39m: LimitExceededError,\n\u001b[1;32m    105\u001b[0m     \u001b[38;5;124m'\u001b[39m\u001b[38;5;124mM\u001b[39m\u001b[38;5;124m'\u001b[39m: InternalServerError,\n\u001b[0;32m   (...)\u001b[0m\n\u001b[1;32m    110\u001b[0m     \u001b[38;5;124m'\u001b[39m\u001b[38;5;124mX\u001b[39m\u001b[38;5;124m'\u001b[39m: ServiceUnavailableError\n\u001b[1;32m    111\u001b[0m }\n\u001b[1;32m    112\u001b[0m klass \u001b[38;5;241m=\u001b[39m d_klass\u001b[38;5;241m.\u001b[39mget(code_letter, QuandlError)\n\u001b[0;32m--> 114\u001b[0m \u001b[38;5;28;01mraise\u001b[39;00m klass(message, resp\u001b[38;5;241m.\u001b[39mstatus_code, resp\u001b[38;5;241m.\u001b[39mtext, resp\u001b[38;5;241m.\u001b[39mheaders, code)\n",
      "\u001b[0;31mInvalidRequestError\u001b[0m: (Status 422) (Quandl Error QESx08) You cannot use date column as a filter."
     ]
    }
   ],
   "source": [
    "# Run the strategy for all MAANG stocks\n",
    "run_maang_strategy(tickers)"
   ]
  }
 ],
 "metadata": {
  "kernelspec": {
   "display_name": "base",
   "language": "python",
   "name": "python3"
  },
  "language_info": {
   "codemirror_mode": {
    "name": "ipython",
    "version": 3
   },
   "file_extension": ".py",
   "mimetype": "text/x-python",
   "name": "python",
   "nbconvert_exporter": "python",
   "pygments_lexer": "ipython3",
   "version": "3.11.5"
  }
 },
 "nbformat": 4,
 "nbformat_minor": 2
}
