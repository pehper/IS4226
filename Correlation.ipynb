{
 "cells": [
  {
   "cell_type": "code",
   "execution_count": 88,
   "metadata": {},
   "outputs": [
    {
     "name": "stdout",
     "output_type": "stream",
     "text": [
      "Requirement already satisfied: ta in c:\\users\\alver\\anaconda3\\lib\\site-packages (0.11.0)\n",
      "Requirement already satisfied: numpy in c:\\users\\alver\\anaconda3\\lib\\site-packages (from ta) (1.26.4)\n",
      "Requirement already satisfied: pandas in c:\\users\\alver\\anaconda3\\lib\\site-packages (from ta) (1.4.2)\n",
      "Requirement already satisfied: python-dateutil>=2.8.1 in c:\\users\\alver\\anaconda3\\lib\\site-packages (from pandas->ta) (2.8.2)\n",
      "Requirement already satisfied: pytz>=2020.1 in c:\\users\\alver\\anaconda3\\lib\\site-packages (from pandas->ta) (2024.2)\n",
      "Requirement already satisfied: six>=1.5 in c:\\users\\alver\\anaconda3\\lib\\site-packages (from python-dateutil>=2.8.1->pandas->ta) (1.16.0)\n"
     ]
    },
    {
     "name": "stderr",
     "output_type": "stream",
     "text": [
      "Error processing line 1 of C:\\Users\\alver\\anaconda3\\lib\\site-packages\\vision-1.0.0-py3.9-nspkg.pth:\n",
      "\n",
      "  Traceback (most recent call last):\n",
      "    File \"C:\\Users\\alver\\anaconda3\\lib\\site.py\", line 169, in addpackage\n",
      "      exec(line)\n",
      "    File \"<string>\", line 1, in <module>\n",
      "    File \"<frozen importlib._bootstrap>\", line 562, in module_from_spec\n",
      "  AttributeError: 'NoneType' object has no attribute 'loader'\n",
      "\n",
      "Remainder of file ignored\n"
     ]
    }
   ],
   "source": [
    "! pip install ta"
   ]
  },
  {
   "cell_type": "code",
   "execution_count": 89,
   "metadata": {},
   "outputs": [],
   "source": [
    "#Technical Indicators\n",
    "from ta.utils import dropna\n",
    "from ta.volatility import BollingerBands\n",
    "from ta.trend import ADXIndicator\n",
    "from ta.volatility import AverageTrueRange\n",
    "from ta.trend import SMAIndicator\n",
    "from ta.trend import EMAIndicator\n",
    "from ta.momentum import RSIIndicator\n",
    "from ta.volume import VolumeWeightedAveragePrice\n",
    "\n",
    "# Plotting\n",
    "import matplotlib.pyplot as plt\n",
    "\n",
    "#Getting df\n",
    "import yfinance as yf\n",
    "import math\n",
    "import pandas as pd\n",
    "import numpy as np"
   ]
  },
  {
   "cell_type": "code",
   "execution_count": 90,
   "metadata": {},
   "outputs": [],
   "source": [
    "# MAANG stocks list\n",
    "stocks = ['META', 'AAPL', 'AMZN', 'NFLX', 'GOOGL']\n",
    "start_date = '2015-01-01'\n",
    "end_date = '2019-12-31'"
   ]
  },
  {
   "cell_type": "markdown",
   "metadata": {},
   "source": [
    "Signal and correlation test"
   ]
  },
  {
   "cell_type": "code",
   "execution_count": null,
   "metadata": {},
   "outputs": [],
   "source": [
    "def MA200_Price_indicator(stock, start, end):\n",
    "    df = yf.Ticker(stock).history(start = start, end = end)\n",
    "\n",
    "    sma_200 = SMAIndicator(close = df['Close'], window = 200, fillna = False)\n",
    "    df['sma_200'] = sma_200.sma_indicator()\n",
    "    \n",
    "    df[\"Position\"] = np.where(df['sma_200'] < df['Close'], 1, -1)\n",
    "    df[\"Position\"] = np.where(pd.isna(df['sma_200']), 0, df['Position'])\n",
    "    df['Position'] = df['Position'].fillna(0)\n",
    "\n",
    "    return df\n"
   ]
  },
  {
   "cell_type": "code",
   "execution_count": 91,
   "metadata": {},
   "outputs": [],
   "source": [
    "def EMA200_Price_indicator(stock, start, end):\n",
    "    df = yf.Ticker(stock).history(start=start, end=end)\n",
    "\n",
    "    df['ema_200'] = df['Close'].ewm(span=200, adjust=False).mean()\n",
    "    \n",
    "    df[\"Position\"] = np.where(df['ema_200'] < df['Close'], 1, -1)\n",
    "    \n",
    "    df[\"Position\"] = np.where(pd.isna(df['ema_200']), 0, df['Position'])\n",
    "    \n",
    "    df[\"Position\"] = np.where(pd.isna(df['ema_200']), 0, df[\"Position\"])\n",
    "\n",
    "    return df"
   ]
  },
  {
   "cell_type": "code",
   "execution_count": 93,
   "metadata": {},
   "outputs": [],
   "source": [
    "def RSI_indicator(stock, start, end, rsi_window, high_band, low_band):\n",
    "    df = yf.Ticker(stock).history(start = start, end = end)\n",
    "\n",
    "    rsi = RSIIndicator(close = df['Close'], window = rsi_window, fillna = False)\n",
    "    df['RSI'] = rsi.rsi()\n",
    "\n",
    "    df['Position'] = np.where(df['RSI'] > high_band, -1, np.where(df['RSI'] < low_band, 1, 0))\n",
    "\n",
    "    return df"
   ]
  },
  {
   "cell_type": "code",
   "execution_count": 95,
   "metadata": {},
   "outputs": [],
   "source": [
    "def BB_indicator(stock, start, end, bb_window):\n",
    "    df = yf.Ticker(stock).history(start = start, end = end)\n",
    "\n",
    "    bb = BollingerBands(close = df['Close'], window = bb_window, fillna = False)\n",
    "    df['bb_high'] = bb.bollinger_hband()\n",
    "    df['bb_mid'] = bb.bollinger_mavg()\n",
    "    df['bb_low'] = bb.bollinger_lband()\n",
    "\n",
    "    df['Position'] = np.where((df['bb_high'] > df['Close']) & (df['bb_low'] < df['Close']), \n",
    "                          0, \n",
    "                          np.where(df['bb_low'] > df['Close'], 1, -1))\n",
    "    \n",
    "    df.loc[df['bb_high'].isna() | df['bb_low'].isna(), 'Position'] = 0\n",
    "\n",
    "    return df\n",
    "    "
   ]
  },
  {
   "cell_type": "code",
   "execution_count": 97,
   "metadata": {},
   "outputs": [],
   "source": [
    "def MACD_indicator(stock, start, end):\n",
    "    df = yf.Ticker(stock).history(start = start, end = end)\n",
    "    \n",
    "    # Calculate the 200-day EMA\n",
    "    df['EMA_200'] = df['Close'].ewm(span=200, adjust=False).mean()\n",
    "    \n",
    "    # Calculate the MACD (12, 26, 9)\n",
    "    exp12 = df['Close'].ewm(span=12, adjust=False).mean()\n",
    "    exp26 = df['Close'].ewm(span=26, adjust=False).mean()\n",
    "    df['MACD'] = exp12 - exp26\n",
    "    df['Signal_Line'] = df['MACD'].ewm(span=9, adjust=False).mean()\n",
    "\n",
    "    df['Position'] = np.where(df['Signal_Line'] < df['MACD'], 1, -1)\n",
    "\n",
    "    return df"
   ]
  },
  {
   "cell_type": "markdown",
   "metadata": {},
   "source": [
    "Correlation for signal for stocks"
   ]
  },
  {
   "cell_type": "code",
   "execution_count": 113,
   "metadata": {},
   "outputs": [
    {
     "name": "stdout",
     "output_type": "stream",
     "text": [
      "             sma_signal  ema_signal  rsi_signal  bb_signal  macd_signal\n",
      "sma_signal     1.000000    0.741284   -0.184050  -0.110197    -0.004338\n",
      "ema_signal     0.741284    1.000000   -0.225322  -0.161457     0.052739\n",
      "rsi_signal    -0.184050   -0.225322    1.000000   0.367405    -0.286779\n",
      "bb_signal     -0.110197   -0.161457    0.367405   1.000000    -0.317001\n",
      "macd_signal   -0.004338    0.052739   -0.286779  -0.317001     1.000000 \n",
      "\n"
     ]
    }
   ],
   "source": [
    "total_corr = pd.DataFrame()\n",
    "for stock in stocks:\n",
    "    sma_200_indicator = MA200_Price_indicator(stock, start_date, end_date)\n",
    "    ema_200_indicator = EMA200_Price_indicator(stock, start_date, end_date)\n",
    "    rsi_indicator = RSI_indicator(stock, start_date, end_date, 14, 70, 30)\n",
    "    bb_indicator = BB_indicator(stock, start_date, end_date, 20)\n",
    "    macd_indicator = MACD_indicator(stock, start_date, end_date)\n",
    "    \n",
    "    all_indicators = pd.DataFrame({\n",
    "        'sma_signal' : sma_200_indicator['Position'],\n",
    "        'ema_signal' : ema_200_indicator['Position'],\n",
    "        'rsi_signal' : rsi_indicator['Position'],\n",
    "        'bb_signal' : bb_indicator['Position'],\n",
    "        'macd_signal' : macd_indicator['Position']\n",
    "    })\n",
    "\n",
    "    corr_matrix = all_indicators.corr()\n",
    "    if total_corr.empty:\n",
    "        total_corr = corr_matrix\n",
    "    else:\n",
    "        total_corr = total_corr.add(corr_matrix)\n",
    "\n",
    "total_corr /= len(stocks)\n",
    "    \n",
    "print(f'{total_corr} \\n')"
   ]
  },
  {
   "cell_type": "code",
   "execution_count": null,
   "metadata": {},
   "outputs": [],
   "source": []
  },
  {
   "cell_type": "code",
   "execution_count": null,
   "metadata": {},
   "outputs": [],
   "source": []
  }
 ],
 "metadata": {
  "kernelspec": {
   "display_name": "base",
   "language": "python",
   "name": "python3"
  },
  "language_info": {
   "codemirror_mode": {
    "name": "ipython",
    "version": 3
   },
   "file_extension": ".py",
   "mimetype": "text/x-python",
   "name": "python",
   "nbconvert_exporter": "python",
   "pygments_lexer": "ipython3",
   "version": "3.9.12"
  }
 },
 "nbformat": 4,
 "nbformat_minor": 2
}
